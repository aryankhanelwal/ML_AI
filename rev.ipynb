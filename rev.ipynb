{
 "cells": [
  {
   "cell_type": "code",
   "execution_count": 26,
   "metadata": {},
   "outputs": [],
   "source": [
    "\n",
    "#data oprations\n",
    "    # 1. Item accessing\n",
    "    # 2. Item insertion\n",
    "    # 3. Item assignment\n",
    "    # 4. Item deletion\n"
   ]
  },
  {
   "cell_type": "code",
   "execution_count": 3,
   "metadata": {},
   "outputs": [
    {
     "data": {
      "text/plain": [
       "dict"
      ]
     },
     "execution_count": 3,
     "metadata": {},
     "output_type": "execute_result"
    }
   ],
   "source": [
    "from keyword import kwlist as k\n",
    "\n",
    "# for w in k:\n",
    "#     print(w)\n",
    "\n",
    "a = 3+2j\n",
    "b= \"Hello\"\n",
    "c= (\"hr\",\"hrrr\")\n",
    "e= {\"boy\":\"aryan\"}\n",
    "type(e)\n"
   ]
  },
  {
   "cell_type": "code",
   "execution_count": 4,
   "metadata": {},
   "outputs": [
    {
     "data": {
      "text/plain": [
       "'etats nohtyp el'"
      ]
     },
     "execution_count": 4,
     "metadata": {},
     "output_type": "execute_result"
    }
   ],
   "source": [
    "s= 'A sample python statement'\n",
    "s[-5:5:-1]"
   ]
  },
  {
   "cell_type": "code",
   "execution_count": 50,
   "metadata": {},
   "outputs": [
    {
     "data": {
      "text/plain": [
       "'h'"
      ]
     },
     "execution_count": 50,
     "metadata": {},
     "output_type": "execute_result"
    }
   ],
   "source": [
    "d= [4,6,'hi']\n",
    "\n",
    "d[2][0]\n"
   ]
  },
  {
   "cell_type": "code",
   "execution_count": 3,
   "metadata": {},
   "outputs": [
    {
     "data": {
      "text/plain": [
       "98"
      ]
     },
     "execution_count": 3,
     "metadata": {},
     "output_type": "execute_result"
    }
   ],
   "source": [
    "d1 = [{'a':34},66,{'66':[{'00':[98,'hi']},'awesome',{'m':'n'}]}]\n",
    "#d1[2]['66'][0]['00'][0]\n",
    "d1[2]['66'][0]['00'][0]"
   ]
  },
  {
   "cell_type": "code",
   "execution_count": 2,
   "metadata": {},
   "outputs": [],
   "source": [
    "#item insertion\n",
    "s='468hi03.4'\n",
    "a= [4,6,8,'hi',3.4]\n",
    "b= (4,6,8,'hi',3.4)\n",
    "c={4:6,8:['hi',3.4]}\n",
    "d= {4,6,8,'hi',3.4}"
   ]
  },
  {
   "cell_type": "code",
   "execution_count": 15,
   "metadata": {},
   "outputs": [
    {
     "data": {
      "text/plain": [
       "(5, 2)"
      ]
     },
     "execution_count": 15,
     "metadata": {},
     "output_type": "execute_result"
    }
   ],
   "source": [
    "len(a),len(c)"
   ]
  },
  {
   "cell_type": "code",
   "execution_count": 51,
   "metadata": {},
   "outputs": [
    {
     "data": {
      "text/plain": [
       "(4, 6, 'byeee', 8, 'hi', 3.4)"
      ]
     },
     "execution_count": 51,
     "metadata": {},
     "output_type": "execute_result"
    }
   ],
   "source": [
    "#we can only add tuple with tuple and single value tuple we must add , ............\n",
    "b = b[:2] + ('byeee',) +b[2:]\n",
    "b"
   ]
  },
  {
   "cell_type": "code",
   "execution_count": 53,
   "metadata": {},
   "outputs": [
    {
     "data": {
      "text/plain": [
       "(4,\n",
       " 6,\n",
       " 8,\n",
       " 'hi',\n",
       " 3.4,\n",
       " '4',\n",
       " '6',\n",
       " '8',\n",
       " 'h',\n",
       " 'i',\n",
       " '0',\n",
       " '3',\n",
       " '.',\n",
       " '4',\n",
       " 4,\n",
       " 6,\n",
       " 'byeee',\n",
       " 8,\n",
       " 'hi',\n",
       " 3.4)"
      ]
     },
     "execution_count": 53,
     "metadata": {},
     "output_type": "execute_result"
    }
   ],
   "source": [
    "#we can add list and tuple by adding * sign before the name (args and kwargs)\n",
    "(*a , *s,*b)"
   ]
  },
  {
   "cell_type": "code",
   "execution_count": 45,
   "metadata": {},
   "outputs": [
    {
     "data": {
      "text/plain": [
       "{4: 6, 8: ['hi', 3.4], 'a': 49, 'b': 25}"
      ]
     },
     "execution_count": 45,
     "metadata": {},
     "output_type": "execute_result"
    }
   ],
   "source": [
    "#Adding two or more dictionaries in python we use **\n",
    "c1={'a':49,'b':25}\n",
    "{**c,**c1} #kwargs"
   ]
  },
  {
   "cell_type": "code",
   "execution_count": 52,
   "metadata": {},
   "outputs": [],
   "source": [
    "#itme assingment \n",
    "#s[0] = 'A' not possible\n",
    "#a[0] = 'A' Possible\n",
    "#b[0] = 'A' NOt possible\n",
    "#c[4] = 55 Done\n",
    "\n",
    "\n",
    "#Item Deletion\n",
    "#del s[0] #not possible\n",
    "#del a[0] possible\n"
   ]
  },
  {
   "cell_type": "code",
   "execution_count": 59,
   "metadata": {},
   "outputs": [
    {
     "data": {
      "text/plain": [
       "('LOWERCASE', 'lowercase', 'Lowercase')"
      ]
     },
     "execution_count": 59,
     "metadata": {},
     "output_type": "execute_result"
    }
   ],
   "source": [
    "#important functions in str are upper , lower, find, split, strip, join, format,count\n",
    "#important functions in list are append, sort, count, copy, insert, remove, index, pop\n",
    "#important functions in tuple are count , index\n",
    "#important functions in dict are key,values.update, get,pop\n",
    "#important functions in set are add, difference , union, pop ,remove\n",
    "\n",
    "\n",
    "\n",
    "\n",
    "\n",
    "r= 'lowercase'\n",
    "r.upper() , r.lower(),r.capitalize()"
   ]
  },
  {
   "cell_type": "code",
   "execution_count": 62,
   "metadata": {},
   "outputs": [
    {
     "data": {
      "text/plain": [
       "'wercase'"
      ]
     },
     "execution_count": 62,
     "metadata": {},
     "output_type": "execute_result"
    }
   ],
   "source": [
    "r.strip('lo')"
   ]
  },
  {
   "cell_type": "code",
   "execution_count": 8,
   "metadata": {},
   "outputs": [
    {
     "data": {
      "text/plain": [
       "[8, 12, 16, 'hihi', 6.8]"
      ]
     },
     "execution_count": 8,
     "metadata": {},
     "output_type": "execute_result"
    }
   ],
   "source": [
    "f=[]\n",
    "# for val in a:\n",
    "#     f.append(val*2)\n",
    "for i in range(len(a)):\n",
    "    f.append(a[i]*2)\n",
    "f"
   ]
  },
  {
   "cell_type": "code",
   "execution_count": 10,
   "metadata": {},
   "outputs": [
    {
     "data": {
      "text/plain": [
       "[12, 18, 24, 'hihihi', 10.2]"
      ]
     },
     "execution_count": 10,
     "metadata": {},
     "output_type": "execute_result"
    }
   ],
   "source": [
    "#comprehensions\n",
    "# only for for loop which are of one line\n",
    "#list comprehensions [output for-loop ] [output for-loop if-condition] we cannot apply else or elif condition in this\n",
    "#Dictionary  {key:value , for loop}\n",
    "# set  \n",
    "\n",
    "#Generator\n",
    "f = [val*3 for val in a ]\n",
    "f"
   ]
  },
  {
   "cell_type": "code",
   "execution_count": 19,
   "metadata": {},
   "outputs": [
    {
     "data": {
      "text/plain": [
       "[2, 14, 6, 134, 34, 1, 2, 90, 22, 22, 18, 4]"
      ]
     },
     "execution_count": 19,
     "metadata": {},
     "output_type": "execute_result"
    }
   ],
   "source": [
    "k = [4,7,3,67,34,2,4,45,22,11,9,8 ]\n",
    "p = [val*2 if val % 2 ==1 else (val //2 if val<20 else val)  for val in k]\n",
    "p"
   ]
  },
  {
   "cell_type": "code",
   "execution_count": 21,
   "metadata": {},
   "outputs": [
    {
     "data": {
      "text/plain": [
       "{4: 16, 34: 1156, 2: 4, 22: 484, 8: 64}"
      ]
     },
     "execution_count": 21,
     "metadata": {},
     "output_type": "execute_result"
    }
   ],
   "source": [
    "m ={val:val**2 for val in k if val%2==0}\n",
    "m"
   ]
  },
  {
   "cell_type": "code",
   "execution_count": 24,
   "metadata": {},
   "outputs": [
    {
     "name": "stdout",
     "output_type": "stream",
     "text": [
      "4 : 16\n",
      "34 : 1156\n",
      "2 : 4\n",
      "22 : 484\n",
      "8 : 64\n"
     ]
    }
   ],
   "source": [
    "for i,j in m.items():\n",
    "    print(i,':',j)"
   ]
  },
  {
   "cell_type": "code",
   "execution_count": 29,
   "metadata": {},
   "outputs": [
    {
     "name": "stdout",
     "output_type": "stream",
     "text": [
      "Help on function function_ka_naam in module __main__:\n",
      "\n",
      "function_ka_naam()\n",
      "    this is just for other developers to use \n",
      "    junior developer\n",
      "\n"
     ]
    }
   ],
   "source": [
    "#user defined functions\n",
    "def function_ka_naam():\n",
    "    '''this is just for other developers to use \n",
    "        junior developer\n",
    "    '''\n",
    "    print(\"aa gya\")\n",
    "\n",
    "help(function_ka_naam)\n",
    "# function_ka_naam()"
   ]
  },
  {
   "cell_type": "code",
   "execution_count": 18,
   "metadata": {},
   "outputs": [],
   "source": [
    "def merimerzi(first,second=15): \n",
    "    return(first*second)+first"
   ]
  },
  {
   "cell_type": "code",
   "execution_count": 19,
   "metadata": {},
   "outputs": [
    {
     "data": {
      "text/plain": [
       "80"
      ]
     },
     "execution_count": 19,
     "metadata": {},
     "output_type": "execute_result"
    }
   ],
   "source": [
    "merimerzi(5) #65+15\n"
   ]
  },
  {
   "cell_type": "code",
   "execution_count": 22,
   "metadata": {},
   "outputs": [
    {
     "name": "stdout",
     "output_type": "stream",
     "text": [
      "Aryan Khandelwal is Going Ot Be The Best\n"
     ]
    }
   ],
   "source": [
    "import camelcase\n",
    "\n",
    "c = camelcase.CamelCase()\n",
    "\n",
    "txt = \"aryan khandelwal is going to be the best\"\n",
    "\n",
    "print(c.hump(txt))\n"
   ]
  },
  {
   "cell_type": "code",
   "execution_count": 31,
   "metadata": {},
   "outputs": [
    {
     "name": "stdout",
     "output_type": "stream",
     "text": [
      "The sum  9.0\n"
     ]
    }
   ],
   "source": [
    "# Store input numbers\n",
    "num1 = input('Enter first number: ')\n",
    "num2 = input('Enter second number: ')\n",
    "\n",
    "# Add two numbers\n",
    "sum = float(num1) + float(num2)\n",
    "\n",
    "# Display the sum\n",
    "print('The sum ',sum)\n"
   ]
  },
  {
   "cell_type": "code",
   "execution_count": 34,
   "metadata": {},
   "outputs": [
    {
     "ename": "SyntaxError",
     "evalue": "invalid syntax (2119276980.py, line 4)",
     "output_type": "error",
     "traceback": [
      "\u001b[1;36m  Cell \u001b[1;32mIn[34], line 4\u001b[1;36m\u001b[0m\n\u001b[1;33m    kuch(3,4,6,5,'str':home)\u001b[0m\n\u001b[1;37m                      ^\u001b[0m\n\u001b[1;31mSyntaxError\u001b[0m\u001b[1;31m:\u001b[0m invalid syntax\n"
     ]
    }
   ],
   "source": [
    "def kuch(x= 10,*v,**u):\n",
    "    return(x**2),v,u\n",
    "\n",
    "kuch(3,4,6,5,'str':home)\n"
   ]
  }
 ],
 "metadata": {
  "kernelspec": {
   "display_name": "Python 3",
   "language": "python",
   "name": "python3"
  },
  "language_info": {
   "codemirror_mode": {
    "name": "ipython",
    "version": 3
   },
   "file_extension": ".py",
   "mimetype": "text/x-python",
   "name": "python",
   "nbconvert_exporter": "python",
   "pygments_lexer": "ipython3",
   "version": "3.10.4"
  },
  "orig_nbformat": 4,
  "vscode": {
   "interpreter": {
    "hash": "369f2c481f4da34e4445cda3fffd2e751bd1c4d706f27375911949ba6bb62e1c"
   }
  }
 },
 "nbformat": 4,
 "nbformat_minor": 2
}
